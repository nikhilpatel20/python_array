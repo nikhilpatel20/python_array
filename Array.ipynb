{
 "cells": [
  {
   "cell_type": "markdown",
   "id": "2dcb794e-6570-4831-970d-031bd732af28",
   "metadata": {},
   "source": [
    "# 4. Median of Two Sorted Arrays\n",
    "Given two sorted arrays nums1 and nums2 of size m and n respectively, return the median of the two sorted arrays.\n",
    "\n",
    "The overall run time complexity should be O(log (m+n)).\n",
    "\n",
    " \n",
    "\n",
    "Example 1:\n",
    "\n",
    "Input: nums1 = [1,3], nums2 = [2]\n",
    "Output: 2.00000\n",
    "Explanation: merged array = [1,2,3] and median is 2.\n",
    "Example 2:\n",
    "\n",
    "Input: nums1 = [1,2], nums2 = [3,4]\n",
    "Output: 2.50000\n",
    "Explanation: merged array = [1,2,3,4] and median is (2 + 3) / 2 = 2.5."
   ]
  },
  {
   "cell_type": "code",
   "execution_count": 20,
   "id": "6f816fde-00f6-43a6-9203-689e7008e2d0",
   "metadata": {},
   "outputs": [
    {
     "name": "stdout",
     "output_type": "stream",
     "text": [
      "2.5\n"
     ]
    }
   ],
   "source": [
    "# nums1 = [1,3], nums2 = [2]\n",
    "\n",
    "nums1= [1,2]\n",
    "nums2 = [3,4]\n",
    "marge = sorted(nums1 + nums2)\n",
    "\n",
    "n = len(marge)\n",
    "if n % 2 == 1:\n",
    "    med = marge[n//2]\n",
    "else :\n",
    "    med = (marge[n//2-1] + marge[n//2])/2\n",
    "print(med)\n"
   ]
  },
  {
   "cell_type": "code",
   "execution_count": 1,
   "id": "df59af9b-aff6-4212-ba43-d3e1e891cbed",
   "metadata": {},
   "outputs": [],
   "source": [
    "class Solution(object):\n",
    "    def findMedianSortedArrays(self, nums1, nums2):\n",
    "        marged = sorted(nums1 + nums2)\n",
    "        n = len(marged)\n",
    "        \n",
    "        if n % 2 == 1:\n",
    "            med = float(marged[n // 2])\n",
    "        else :\n",
    "            med = float(marged[n//2-1] + marged[n//2])/2\n",
    "        return med\n",
    "        "
   ]
  },
  {
   "cell_type": "code",
   "execution_count": 3,
   "id": "9a37f1c8-42e7-4b55-9e50-0b9bead52c3b",
   "metadata": {},
   "outputs": [
    {
     "name": "stdout",
     "output_type": "stream",
     "text": [
      "2.5\n"
     ]
    }
   ],
   "source": [
    "sol = Solution()\n",
    "nums1 = [1,2]\n",
    "nums2 = [3,4]\n",
    "print(sol.findMedianSortedArrays(nums1,nums2))"
   ]
  },
  {
   "cell_type": "markdown",
   "id": "c564edd8-24d4-4d97-a2ae-5ab412218b3e",
   "metadata": {},
   "source": [
    "# 11. Container With Most Water\n",
    "You are given an integer array height of length n. There are n vertical lines drawn such that the two endpoints of the ith line are (i, 0) and (i, height[i]).\n",
    "\n",
    "Find two lines that together with the x-axis form a container, such that the container contains the most water.\n",
    "\n",
    "Return the maximum amount of water a container can store.\n",
    "\n",
    "Notice that you may not slant the container.\n",
    "\n",
    " \n",
    "\n",
    "Example 1:\n",
    "\n",
    "\n",
    "Input: height = [1,8,6,2,5,4,8,3,7]\n",
    "Output: 49\n",
    "Explanation: The above vertical lines are represented by array [1,8,6,2,5,4,8,3,7]. In this case, the max area of water (blue section) the container can contain is 49.\n",
    "Example 2:\n",
    "\n",
    "Input: height = [1,1]\n",
    "Output: 1"
   ]
  },
  {
   "cell_type": "code",
   "execution_count": 14,
   "id": "e27b3671-da2d-45b5-86ca-6d575c07d474",
   "metadata": {},
   "outputs": [
    {
     "name": "stdout",
     "output_type": "stream",
     "text": [
      "New max found: 1 * 8 = 8\n",
      "New max found: 7 * 7 = 49\n",
      "\n",
      "Maximum water that can be contained: 49\n"
     ]
    }
   ],
   "source": [
    "height = [1, 8, 6, 2, 5, 4, 8, 3, 7]\n",
    "start, end = 0, len(height) - 1\n",
    "result = 0\n",
    "\n",
    "while start < end:\n",
    "    diff = end - start\n",
    "    if height[start] < height[end]:\n",
    "        mini = height[start]\n",
    "        start += 1\n",
    "\n",
    "        \n",
    "    else:\n",
    "        mini = height[end]\n",
    "        end -= 1\n",
    "    area = mini * diff\n",
    "    \n",
    "    if area > result:\n",
    "        result = area\n",
    "        print(f\"New max found: {mini} * {diff} = {result}\")\n",
    "\n",
    "print(f\"\\nMaximum water that can be contained: {result}\")\n"
   ]
  },
  {
   "cell_type": "code",
   "execution_count": 17,
   "id": "bfdbfcce-1b26-4d96-a275-caab00bc846b",
   "metadata": {},
   "outputs": [],
   "source": [
    "class Solution(object):\n",
    "    def maxArea(self, height):\n",
    "        start, end = 0, len(height)-1\n",
    "\n",
    "        mini, diff , result = 0, 0, 0\n",
    "        while  start < end :\n",
    "            diff = end - start\n",
    "            \n",
    "            if height[start] < height [end ]:\n",
    "                mini = height[start]\n",
    "                start += 1\n",
    "\n",
    "            else:\n",
    "                mini = height [end]\n",
    "                end -=1\n",
    "\n",
    "            if mini *diff > result :\n",
    "                result = mini*diff\n",
    "        return result "
   ]
  },
  {
   "cell_type": "code",
   "execution_count": 18,
   "id": "b562ec6f-7893-4aaa-8357-8a92976e6c61",
   "metadata": {},
   "outputs": [
    {
     "name": "stdout",
     "output_type": "stream",
     "text": [
      "49\n"
     ]
    }
   ],
   "source": [
    "sol = Solution()\n",
    "height = [1,8,6,2,5,4,8,3,7]\n",
    "print(sol.maxArea(height))"
   ]
  },
  {
   "cell_type": "code",
   "execution_count": 25,
   "id": "82632d1c-552b-4b7a-aa5d-055dfe2ea46d",
   "metadata": {},
   "outputs": [
    {
     "name": "stdout",
     "output_type": "stream",
     "text": [
      "Reinitialized existing Git repository in C:/Users/np793/Python notes/DSA/.git/\n",
      "On branch main\n",
      "\n",
      "Initial commit\n",
      "\n",
      "Untracked files:\n",
      "  (use \"git add <file>...\" to include in what will be committed)\n",
      "\t.ipynb_checkpoints/\n",
      "\tArray.ipynb\n",
      "\tBinary search.ipynb\n",
      "\tDSA-Topic-Wise.pdf\n",
      "\tOOPS.ipynb\n",
      "\tfree-dsa-course.pdf\n",
      "\tstring___.ipynb\n",
      "\n",
      "nothing added to commit but untracked files present (use \"git add\" to track)\n"
     ]
    },
    {
     "name": "stderr",
     "output_type": "stream",
     "text": [
      "error: remote origin already exists.\n",
      "error: src refspec main does not match any\n",
      "error: failed to push some refs to 'https://github.com/nikhilpatel20/python_Array.git'\n"
     ]
    }
   ],
   "source": [
    "!git init\n",
    "!git commit -m \"first commit\"\n",
    "!git branch -M main\n",
    "!git remote add origin https://github.com/nikhilpatel20/python_Array.git\n",
    "!git push -u origin main"
   ]
  },
  {
   "cell_type": "code",
   "execution_count": 26,
   "id": "d7df2266-ced5-4623-b8a7-6882df1edd5c",
   "metadata": {},
   "outputs": [
    {
     "name": "stdout",
     "output_type": "stream",
     "text": [
      "origin\thttps://github.com/nikhilpatel20/python_Array.git (fetch)\n",
      "origin\thttps://github.com/nikhilpatel20/python_Array.git (push)\n"
     ]
    }
   ],
   "source": [
    "!git remote -v\n"
   ]
  },
  {
   "cell_type": "code",
   "execution_count": 27,
   "id": "8036f352-813f-49fd-b0d3-7f2e7bb0cb63",
   "metadata": {},
   "outputs": [],
   "source": [
    "!git branch\n"
   ]
  },
  {
   "cell_type": "code",
   "execution_count": 28,
   "id": "59ace255-3157-42b1-a6fd-7f4eaae17c52",
   "metadata": {},
   "outputs": [],
   "source": [
    "!git branch -m main\n"
   ]
  },
  {
   "cell_type": "code",
   "execution_count": 29,
   "id": "87bb5791-9e58-48ac-a31f-ef489804ab3c",
   "metadata": {},
   "outputs": [
    {
     "name": "stderr",
     "output_type": "stream",
     "text": [
      "warning: in the working copy of '.ipynb_checkpoints/Array-checkpoint.ipynb', LF will be replaced by CRLF the next time Git touches it\n",
      "warning: in the working copy of '.ipynb_checkpoints/Binary search-checkpoint.ipynb', LF will be replaced by CRLF the next time Git touches it\n",
      "warning: in the working copy of '.ipynb_checkpoints/OOPS-checkpoint.ipynb', LF will be replaced by CRLF the next time Git touches it\n",
      "warning: in the working copy of '.ipynb_checkpoints/string___-checkpoint.ipynb', LF will be replaced by CRLF the next time Git touches it\n",
      "warning: in the working copy of 'Array.ipynb', LF will be replaced by CRLF the next time Git touches it\n",
      "warning: in the working copy of 'Binary search.ipynb', LF will be replaced by CRLF the next time Git touches it\n",
      "warning: in the working copy of 'OOPS.ipynb', LF will be replaced by CRLF the next time Git touches it\n",
      "warning: in the working copy of 'string___.ipynb', LF will be replaced by CRLF the next time Git touches it\n"
     ]
    },
    {
     "name": "stdout",
     "output_type": "stream",
     "text": [
      "[main (root-commit) f4a2d0e] Initial commit\n",
      " 12 files changed, 28630 insertions(+)\n",
      " create mode 100644 .ipynb_checkpoints/Array-checkpoint.ipynb\n",
      " create mode 100644 .ipynb_checkpoints/Binary search-checkpoint.ipynb\n",
      " create mode 100644 .ipynb_checkpoints/DSA-Topic-Wise-checkpoint.pdf\n",
      " create mode 100644 .ipynb_checkpoints/OOPS-checkpoint.ipynb\n",
      " create mode 100644 .ipynb_checkpoints/free-dsa-course-checkpoint.pdf\n",
      " create mode 100644 .ipynb_checkpoints/string___-checkpoint.ipynb\n",
      " create mode 100644 Array.ipynb\n",
      " create mode 100644 Binary search.ipynb\n",
      " create mode 100644 DSA-Topic-Wise.pdf\n",
      " create mode 100644 OOPS.ipynb\n",
      " create mode 100644 free-dsa-course.pdf\n",
      " create mode 100644 string___.ipynb\n"
     ]
    }
   ],
   "source": [
    "!git add .\n",
    "!git commit -m \"Initial commit\"\n",
    "\n"
   ]
  },
  {
   "cell_type": "code",
   "execution_count": 30,
   "id": "ca0e6496-2e7f-4041-aaf7-dce4e9f9314e",
   "metadata": {},
   "outputs": [
    {
     "name": "stdout",
     "output_type": "stream",
     "text": [
      "branch 'main' set up to track 'origin/main'.\n"
     ]
    },
    {
     "name": "stderr",
     "output_type": "stream",
     "text": [
      "To https://github.com/nikhilpatel20/python_Array.git\n",
      " * [new branch]      main -> main\n"
     ]
    }
   ],
   "source": [
    "!git push -u origin main\n"
   ]
  },
  {
   "cell_type": "code",
   "execution_count": null,
   "id": "ac0429a6-e4de-4916-9b2a-aff4e4e9d977",
   "metadata": {},
   "outputs": [],
   "source": []
  }
 ],
 "metadata": {
  "kernelspec": {
   "display_name": "Python [conda env:.conda-ai_env_Stable_3.8]",
   "language": "python",
   "name": "conda-env-.conda-ai_env_Stable_3.8-py"
  },
  "language_info": {
   "codemirror_mode": {
    "name": "ipython",
    "version": 3
   },
   "file_extension": ".py",
   "mimetype": "text/x-python",
   "name": "python",
   "nbconvert_exporter": "python",
   "pygments_lexer": "ipython3",
   "version": "3.8.20"
  }
 },
 "nbformat": 4,
 "nbformat_minor": 5
}
